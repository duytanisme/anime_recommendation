{
 "cells": [
  {
   "cell_type": "code",
   "execution_count": null,
   "id": "366bd578",
   "metadata": {},
   "outputs": [],
   "source": [
    "'''\n",
    " Continue Watching\n",
    " Tiếp tục xem – Hiển thị danh sách anime đang xem dở, sắp xếp theo thời gian xem gần nhất.\n",
    "Input:\n",
    "user_id\n",
    "Lịch sử xem (anime_id, watched_episodes, watching_status)\n",
    "Output:\n",
    "Danh sách anime chưa xem hết (anime_id, progress_percentage, last_watched_episode)\n",
    "'''"
   ]
  },
  {
   "cell_type": "code",
   "execution_count": 91,
   "id": "81ff983a",
   "metadata": {},
   "outputs": [],
   "source": [
    "import pyodbc\n",
    "import pandas as pd\n",
    "import os\n",
    "from sqlalchemy import create_engine"
   ]
  },
  {
   "cell_type": "code",
   "execution_count": null,
   "id": "212a3f1a",
   "metadata": {},
   "outputs": [],
   "source": [
    "from dotenv import load_dotenv\n",
    "\n",
    "load_dotenv()\n",
    "\n",
    "DB_HOST = os.getenv(\"DB_HOST\")\n",
    "DB_PORT = os.getenv(\"DB_PORT\")\n",
    "DB_NAME = os.getenv(\"DB_NAME\")\n",
    "DB_USER = os.getenv(\"DB_USER\")\n",
    "DB_PASSWORD = os.getenv(\"DB_PASSWORD\")\n",
    "engine = create_engine(\n",
    "    f\"mssql+pyodbc://{DB_USER}:{DB_PASSWORD}@{DB_HOST}:{DB_PORT}/{DB_NAME}?driver=ODBC+Driver+17+for+SQL+Server\"\n",
    ")"
   ]
  },
  {
   "cell_type": "code",
   "execution_count": null,
   "id": "84c19bd6",
   "metadata": {},
   "outputs": [],
   "source": [
    "def continue_watch(user_id: int):\n",
    "    q = 'SELECT * FROM ANIMELISTD WHERE USER_ID = :user_id'\n",
    "    df = pd.read_sql(q, engine, params={\"user_id\": user_id})\n",
    "    q2 = 'SELECT * FROM anime_refined_modified'\n",
    "    df_anime = pd.read_sql(q2,engine)\n",
    "    \n",
    "    #Join lấy thông tin anime\n",
    "    watching = df.merge(df_anime, on='anime_id', how='left')[['user_id', 'anime_id','watching_status','watched_episodes', 'Name', 'rating','Genres', 'year','Producers']].dropna(subset=['Name'])\n",
    "    \n",
    "    #Lấy các anime đang xem và sắp xếp theo số tập đã xem giảm dần\n",
    "    df_top5 = watching[watching['watching_status']==1].sort_values(['user_id', 'watched_episodes'], ascending=[True, False]).drop_duplicates()\n",
    "    \n",
    "    #lấy 5 anime đã được xem nhiều nhất của user\n",
    "    recently_watch = df_top5.groupby('user_id').head(5)[['user_id', 'anime_id', 'Name', 'rating','Genres', 'year','Producers']]\n",
    "    \n",
    "    #Trả về dictionary chứa thông tin anime\n",
    "    dict_result = recently_watch[recently_watch['user_id']==user_id].set_index('anime_id').to_dict(orient='index')\n",
    "    return dict_result"
   ]
  },
  {
   "cell_type": "code",
   "execution_count": null,
   "id": "4f7562e1",
   "metadata": {},
   "outputs": [],
   "source": [
    "'''\n",
    "def continue_watch1(user_id: int):\n",
    "    df = pd.read_csv('animelist.csv')\n",
    "    df_anime = pd.read_csv('anime_refined_modified.csv')\n",
    "    #Join lấy thông tin anime\n",
    "    watching = df.merge(df_anime, on='anime_id', how='left')[['user_id', 'anime_id','watching_status','watched_episodes', 'Name', 'rating','Genres', 'year','Producers']].dropna(subset=['Name'])\n",
    "    \n",
    "    #Lấy các anime đang xem và sắp xếp theo số tập đã xem giảm dần\n",
    "    df_top5 = watching[watching['watching_status']==1].sort_values(['user_id', 'watched_episodes'], ascending=[True, False]).drop_duplicates()\n",
    "    \n",
    "    #lấy 5 anime đã được xem nhiều nhất của user\n",
    "    recently_watch = df_top5.groupby('user_id').head(5)[['user_id', 'anime_id', 'Name', 'rating','Genres', 'year','Producers']]\n",
    "    \n",
    "    #Trả về dictionary chứa thông tin anime\n",
    "    dict_result = recently_watch[recently_watch['user_id']==user_id].set_index('anime_id').to_dict(orient='index')\n",
    "    return dict_result'\n",
    "'''"
   ]
  }
 ],
 "metadata": {
  "kernelspec": {
   "display_name": "Python 3 (ipykernel)",
   "language": "python",
   "name": "python3"
  },
  "language_info": {
   "codemirror_mode": {
    "name": "ipython",
    "version": 3
   },
   "file_extension": ".py",
   "mimetype": "text/x-python",
   "name": "python",
   "nbconvert_exporter": "python",
   "pygments_lexer": "ipython3",
   "version": "3.10.9"
  }
 },
 "nbformat": 4,
 "nbformat_minor": 5
}
